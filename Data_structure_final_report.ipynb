{
  "nbformat": 4,
  "nbformat_minor": 0,
  "metadata": {
    "colab": {
      "provenance": []
    },
    "kernelspec": {
      "name": "python3",
      "display_name": "Python 3"
    },
    "language_info": {
      "name": "python"
    }
  },
  "cells": [
    {
      "cell_type": "markdown",
      "source": [
        "# Queue常用方法\n"
      ],
      "metadata": {
        "id": "piGWwy_mKzZs"
      }
    },
    {
      "cell_type": "code",
      "source": [
        "# -*- coding:utf-8 -*-\n",
        "from queue import Queue\n",
        "\n",
        "__author__ = 'Evan'\n",
        "\n",
        "\n",
        "def queue_usage(put_data):\n",
        "    \"\"\"\n",
        "    Queue常用方法\n",
        "    :param put_data: 放入的數據，列表或元組類型\n",
        "    :return:\n",
        "    \"\"\"\n",
        "    q = Queue(maxsize=3)  # 設置隊列上限為3\n",
        "\n",
        "    for each in put_data:\n",
        "        print(f'添加({each})到隊列')\n",
        "        q.put(each)\n",
        "\n",
        "    print(f'返回隊列的大小: {q.qsize()}')\n",
        "    print(f'判斷隊列是否為空: {q.empty()}')\n",
        "    print(f'判斷隊列是否滿了: {q.full()}')\n",
        "\n",
        "    while not q.empty():\n",
        "        print(f'取出：{q.get()}')\n",
        "        q.task_done()  # 告訴隊列，這個數據已經使用完畢\n",
        "\n",
        "    q.join()  # 阻塞調用線程，直到隊列中的所有任務被處理掉\n",
        "\n",
        "\n",
        "if __name__ == '__main__':\n",
        "    queue_usage(put_data=[1, 2, 3])"
      ],
      "metadata": {
        "colab": {
          "base_uri": "https://localhost:8080/"
        },
        "id": "dy69AZj6K6MU",
        "outputId": "6aa7bcdf-e934-44dd-c4d1-1dfc11b577e8"
      },
      "execution_count": 11,
      "outputs": [
        {
          "output_type": "stream",
          "name": "stdout",
          "text": [
            "添加(1)到隊列\n",
            "添加(2)到隊列\n",
            "添加(3)到隊列\n",
            "返回隊列的大小: 3\n",
            "判斷隊列是否為空: False\n",
            "判斷隊列是否滿了: True\n",
            "取出：1\n",
            "取出：2\n",
            "取出：3\n"
          ]
        }
      ]
    },
    {
      "cell_type": "markdown",
      "source": [
        "# 四種隊列使用方式\n",
        "### 1. Queue 先進先出隊列"
      ],
      "metadata": {
        "id": "1gMGpal7K-GP"
      }
    },
    {
      "cell_type": "code",
      "source": [
        "# -*- coding:utf-8 -*-\n",
        "from queue import Queue\n",
        "\n",
        "__author__ = 'Evan'\n",
        "\n",
        "\n",
        "def fifo_queue(put_data):\n",
        "    \"\"\"\n",
        "    FIFO，先進先出隊列\n",
        "    :param put_data: 放入的數據，列表或元組類型\n",
        "    :return:\n",
        "    \"\"\"\n",
        "    assert isinstance(put_data, (list, tuple)), '請傳入列表或元組類型的put_data'\n",
        "\n",
        "    # maxsize為隊列數據上限，小於或等於0則不限制，當容器數量大於這個數則阻塞，直到隊列中的數據被消掉\n",
        "    q = Queue(maxsize=0)\n",
        "\n",
        "    # 依次寫入隊列數據\n",
        "    for each in put_data:\n",
        "        print(f'添加({each})到隊列')\n",
        "        q.put(each)\n",
        "\n",
        "    print(f'當前隊列所有數據：{q.queue}')\n",
        "\n",
        "    # 逐次取出所有數據\n",
        "    while not q.empty():\n",
        "        print(f'取出：{q.get()}')\n",
        "\n",
        "    print(f'當前隊列所有數據：{q.queue}')\n",
        "\n",
        "\n",
        "if __name__ == '__main__':\n",
        "    fifo_queue(put_data=[3, 2, 1])"
      ],
      "metadata": {
        "colab": {
          "base_uri": "https://localhost:8080/"
        },
        "id": "_a6RNlRnLEGT",
        "outputId": "efc2be73-60a7-44c4-f925-f52a9ed102c3"
      },
      "execution_count": 12,
      "outputs": [
        {
          "output_type": "stream",
          "name": "stdout",
          "text": [
            "添加(3)到隊列\n",
            "添加(2)到隊列\n",
            "添加(1)到隊列\n",
            "當前隊列所有數據：deque([3, 2, 1])\n",
            "取出：3\n",
            "取出：2\n",
            "取出：1\n",
            "當前隊列所有數據：deque([])\n"
          ]
        }
      ]
    },
    {
      "cell_type": "markdown",
      "source": [
        "### 2. LifoQueue 後進先出隊列"
      ],
      "metadata": {
        "id": "Gvzc0Ox-LHeu"
      }
    },
    {
      "cell_type": "code",
      "source": [
        "# -*- coding:utf-8 -*-\n",
        "from queue import LifoQueue\n",
        "\n",
        "__author__ = 'Evan'\n",
        "\n",
        "\n",
        "def lifo_queue(put_data):\n",
        "    \"\"\"\n",
        "    LIFO，後進先出隊列\n",
        "    :param put_data: 放入的數據，列表或元組類型\n",
        "    :return:\n",
        "    \"\"\"\n",
        "    assert isinstance(put_data, (list, tuple)), '請傳入列表或元組類型的put_data'\n",
        "\n",
        "    # maxsize為隊列數據上限，小於或等於0則不限制，當容器數量大於這個數則阻塞，直到隊列中的數據被消掉\n",
        "    q = LifoQueue(maxsize=0)\n",
        "\n",
        "    # 依次寫入隊列數據\n",
        "    for each in put_data:\n",
        "        print(f'添加({each})到隊列')\n",
        "        q.put(each)\n",
        "\n",
        "    print(f'當前隊列所有數據：{q.queue}')\n",
        "\n",
        "    # 逐次取出所有數據\n",
        "    while not q.empty():\n",
        "        print(f'取出：{q.get()}')\n",
        "\n",
        "    print(f'當前隊列所有數據：{q.queue}')\n",
        "\n",
        "\n",
        "if __name__ == '__main__':\n",
        "    lifo_queue(put_data=[3, 2, 1])"
      ],
      "metadata": {
        "colab": {
          "base_uri": "https://localhost:8080/"
        },
        "id": "UcQfkUQQLFhT",
        "outputId": "35598e4a-9f31-410d-9250-df0779515063"
      },
      "execution_count": 13,
      "outputs": [
        {
          "output_type": "stream",
          "name": "stdout",
          "text": [
            "添加(3)到隊列\n",
            "添加(2)到隊列\n",
            "添加(1)到隊列\n",
            "當前隊列所有數據：[3, 2, 1]\n",
            "取出：1\n",
            "取出：2\n",
            "取出：3\n",
            "當前隊列所有數據：[]\n"
          ]
        }
      ]
    },
    {
      "cell_type": "markdown",
      "source": [],
      "metadata": {
        "id": "8VjTfKdQLKGD"
      }
    },
    {
      "cell_type": "markdown",
      "source": [
        "### 3. PriorityQueue 優先隊列"
      ],
      "metadata": {
        "id": "8XHf9brgLNRL"
      }
    },
    {
      "cell_type": "code",
      "source": [
        "# -*- coding:utf-8 -*-\n",
        "from queue import PriorityQueue\n",
        "\n",
        "__author__ = 'Evan'\n",
        "\n",
        "\n",
        "def priority_queue(put_data):\n",
        "    \"\"\"\n",
        "    Priority，優先隊列，級別越低，越優先\n",
        "    :param put_data: 放入的數據，列表或元組類型\n",
        "    :return:\n",
        "    \"\"\"\n",
        "    assert isinstance(put_data, (list, tuple)), '請傳入列表或元組類型的put_data'\n",
        "\n",
        "    # maxsize為隊列數據上限，小於或等於0則不限制，當容器數量大於這個數則阻塞，直到隊列中的數據被消掉\n",
        "    q = PriorityQueue(maxsize=0)\n",
        "\n",
        "    # 依次寫入隊列數據\n",
        "    for each in put_data:\n",
        "        print(f'添加{each}到隊列，優先級別為：{each[0]}')\n",
        "        q.put(each)\n",
        "\n",
        "    print(f'當前隊列所有數據：{q.queue}')\n",
        "\n",
        "    # 逐次取出所有數據，按優先級獲取\n",
        "    while not q.empty():\n",
        "        print(f'取出：{q.get()}')\n",
        "\n",
        "    print(f'當前隊列所有數據：{q.queue}')\n",
        "\n",
        "\n",
        "if __name__ == '__main__':\n",
        "    priority_queue(put_data=[(3, 'value1'), (1, 'value2'), (2, 'value3')])"
      ],
      "metadata": {
        "colab": {
          "base_uri": "https://localhost:8080/"
        },
        "id": "RtpSDzy6LJR4",
        "outputId": "5234f101-70f1-4592-e26d-7ef55aeda5ff"
      },
      "execution_count": 14,
      "outputs": [
        {
          "output_type": "stream",
          "name": "stdout",
          "text": [
            "添加(3, 'value1')到隊列，優先級別為：3\n",
            "添加(1, 'value2')到隊列，優先級別為：1\n",
            "添加(2, 'value3')到隊列，優先級別為：2\n",
            "當前隊列所有數據：[(1, 'value2'), (3, 'value1'), (2, 'value3')]\n",
            "取出：(1, 'value2')\n",
            "取出：(2, 'value3')\n",
            "取出：(3, 'value1')\n",
            "當前隊列所有數據：[]\n"
          ]
        }
      ]
    },
    {
      "cell_type": "markdown",
      "source": [],
      "metadata": {
        "id": "LWdirHPNLPaZ"
      }
    },
    {
      "cell_type": "markdown",
      "source": [
        "### 4. deque 雙端隊列"
      ],
      "metadata": {
        "id": "C3IcQ1mPLSQI"
      }
    },
    {
      "cell_type": "code",
      "source": [
        "# -*- coding:utf-8 -*-\n",
        "from collections import deque\n",
        "\n",
        "__author__ = 'Evan'\n",
        "\n",
        "\n",
        "def deque_example(put_data):\n",
        "    \"\"\"\n",
        "    Deque，雙端隊列\n",
        "    :param put_data: 放入的數據，列表或元組類型\n",
        "    :return:\n",
        "    \"\"\"\n",
        "    assert isinstance(put_data, (list, tuple)), '請傳入列表或元組類型的put_data'\n",
        "\n",
        "    # 放入數據到雙端隊列\n",
        "    dq = deque(put_data)\n",
        "    print(f'當前隊列所有數據：{dq}')\n",
        "\n",
        "    # 增加數據到隊左\n",
        "    dq.appendleft('aa')\n",
        "    print(f'當前隊列所有數據：{dq}')\n",
        "\n",
        "    # 增加數據到隊尾\n",
        "    dq.append('cc')\n",
        "    print(f'當前隊列所有數據：{dq}')\n",
        "\n",
        "    print(f'移除隊尾，並返回：{dq.pop()}')\n",
        "    print(f'移除隊左，並返回：{dq.popleft()}')\n",
        "\n",
        "    print(f'當前隊列所有數據：{dq}')\n",
        "\n",
        "\n",
        "if __name__ == '__main__':\n",
        "    deque_example(put_data=['a', 'b', 'c'])"
      ],
      "metadata": {
        "colab": {
          "base_uri": "https://localhost:8080/"
        },
        "id": "W7itOGRxLOt7",
        "outputId": "6f91af95-0e6f-4eaf-dc7b-60ac0e9ce0d7"
      },
      "execution_count": 15,
      "outputs": [
        {
          "output_type": "stream",
          "name": "stdout",
          "text": [
            "當前隊列所有數據：deque(['a', 'b', 'c'])\n",
            "當前隊列所有數據：deque(['aa', 'a', 'b', 'c'])\n",
            "當前隊列所有數據：deque(['aa', 'a', 'b', 'c', 'cc'])\n",
            "移除隊尾，並返回：cc\n",
            "移除隊左，並返回：aa\n",
            "當前隊列所有數據：deque(['a', 'b', 'c'])\n"
          ]
        }
      ]
    }
  ]
}